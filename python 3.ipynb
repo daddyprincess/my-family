{
 "cells": [
  {
   "cell_type": "markdown",
   "id": "04db1462-1b12-4f83-ba62-cf817f89df0d",
   "metadata": {},
   "source": [
    "### 1.Functions"
   ]
  },
  {
   "cell_type": "code",
   "execution_count": null,
   "id": "b873b0fe-1949-47e0-9509-4acea0c4861a",
   "metadata": {},
   "outputs": [],
   "source": [
    "The def keyword is used to create a function."
   ]
  },
  {
   "cell_type": "code",
   "execution_count": 2,
   "id": "e845df6c-d5cc-4771-ab1c-58b75aeb78cc",
   "metadata": {},
   "outputs": [
    {
     "name": "stdout",
     "output_type": "stream",
     "text": [
      "1 3 5 7 9 11 13 15 17 19 21 23 25 "
     ]
    }
   ],
   "source": [
    "#python program to print odd numbers in given range\n",
    "start, end =1,25\n",
    "#iterating each number in list \n",
    "for num in range (start,end+1):\n",
    "        #checking condition \n",
    "        if num % 2 != 0:\n",
    "            print(num,end =' ')"
   ]
  },
  {
   "cell_type": "markdown",
   "id": "d0482835-50c2-4d4e-85cc-50302a2d0e7b",
   "metadata": {},
   "source": [
    "### 2.*args and **kwargs"
   ]
  },
  {
   "cell_type": "code",
   "execution_count": null,
   "id": "3520cc67-0a0d-4d95-8a1e-743ee086fc35",
   "metadata": {},
   "outputs": [],
   "source": [
    "*args and **kwargs as arguments of a function when you are unsure adout the number of arguments to pass in the functions.\n",
    "We often need to pass value to the function.These values are called function arguments."
   ]
  },
  {
   "cell_type": "code",
   "execution_count": 14,
   "id": "7ec5925b-883c-4f5b-a7f5-bb9ea5a23767",
   "metadata": {},
   "outputs": [
    {
     "name": "stdout",
     "output_type": "stream",
     "text": [
      "sum: 35\n"
     ]
    }
   ],
   "source": [
    "def adder (x,y,z):\n",
    "    print(\"sum:\",x+y+z)\n",
    "adder(10,12,13)"
   ]
  },
  {
   "cell_type": "markdown",
   "id": "b15fb743-0529-4cf8-8d7c-ec5244282eb6",
   "metadata": {},
   "source": [
    "### 3.Iterator"
   ]
  },
  {
   "cell_type": "code",
   "execution_count": null,
   "id": "3afda638-bd0a-446d-8356-912dc7038aa5",
   "metadata": {},
   "outputs": [],
   "source": [
    " In python , an iterator is an object that allows you to iterate over collections of data,such as lists , tuples,\n",
    "dictionaries and sets."
   ]
  },
  {
   "cell_type": "code",
   "execution_count": 18,
   "id": "a096ca72-7289-4f1e-ae2f-639005497675",
   "metadata": {},
   "outputs": [
    {
     "name": "stdout",
     "output_type": "stream",
     "text": [
      "2\n",
      "4\n",
      "8\n",
      "10\n",
      "12\n"
     ]
    }
   ],
   "source": [
    "# define a list \n",
    "my_list = [2,4,8,10,12,14,16,18,20]\n",
    "#create an iterator from the list\n",
    "iterator = iter(my_list)\n",
    "#get the first element of the iterator\n",
    "print(next(iterator)) #prints 2\n",
    "#get the second element of the iterator\n",
    "print(next(iterator)) #prints 4\n",
    "#get the third elemrnt of the iterator\n",
    "print(next(iterator)) #prints 8\n",
    "#get the fourth element of the iterator\n",
    "print(next(iterator)) #prints 10\n",
    "#get the fivth element of the iterator\n",
    "print(next(iterator)) #prints 12"
   ]
  },
  {
   "cell_type": "markdown",
   "id": "11ff0be4-618c-4b85-97dd-3c030ab0cceb",
   "metadata": {},
   "source": [
    "### 4.generator function"
   ]
  },
  {
   "cell_type": "code",
   "execution_count": null,
   "id": "d25516ea-efae-43fe-951b-7b5d819e72c7",
   "metadata": {},
   "outputs": [],
   "source": [
    "A python generator function allows you to declare a function that behaves like an iterator,providing a faster and easier\n",
    "way to create iterations. They can be used on an abstract container of data to turn it into an iterable object like lists\n",
    ",dictionaries and strings."
   ]
  },
  {
   "cell_type": "code",
   "execution_count": 19,
   "id": "53962abb-c1d2-437b-8788-84d020a07673",
   "metadata": {},
   "outputs": [
    {
     "name": "stdout",
     "output_type": "stream",
     "text": [
      "0\n",
      "1\n",
      "2\n"
     ]
    }
   ],
   "source": [
    "def my_generator(n):\n",
    "    #intialize counter\n",
    "    value = 0\n",
    "    #loop until counter is less than n\n",
    "    while value <n:\n",
    "        #produce the current value of the counter\n",
    "        yield value\n",
    "        #increment the counter\n",
    "        value +=1\n",
    "#iterator over the generator object produced by my_generator\n",
    "for value in my_generator(3):\n",
    "    #print each value produced by generator\n",
    "    print(value)"
   ]
  },
  {
   "cell_type": "markdown",
   "id": "6a115413-f380-4397-91fa-f245a24bfd71",
   "metadata": {},
   "source": [
    "### 5.generator function for prime numbers"
   ]
  },
  {
   "cell_type": "code",
   "execution_count": 21,
   "id": "e10327d1-e921-4421-953e-ed633630c49d",
   "metadata": {},
   "outputs": [
    {
     "name": "stdin",
     "output_type": "stream",
     "text": [
      "enter a first number: 1\n",
      "enter a second number: 20\n"
     ]
    },
    {
     "name": "stdout",
     "output_type": "stream",
     "text": [
      "2,3,5,7,11,13,17,19,"
     ]
    }
   ],
   "source": [
    "num1 = int(input(\"enter a first number:\"))#lower limit\n",
    "num2 = int(input(\"enter a second number:\"))#upper limit\n",
    "if num1<num2:\n",
    "    for i in range(num1,num2+1):\n",
    "        for j in range (2, num2+1):\n",
    "            if i%j == 0:\n",
    "                break\n",
    "        if i == j:\n",
    "            print (i,end=',')\n",
    "elif num1>20:\n",
    "    print(\"the  first 20 prime numbers\")\n",
    "else:\n",
    "    print('20>1000')"
   ]
  }
 ],
 "metadata": {
  "kernelspec": {
   "display_name": "Python 3 (ipykernel)",
   "language": "python",
   "name": "python3"
  },
  "language_info": {
   "codemirror_mode": {
    "name": "ipython",
    "version": 3
   },
   "file_extension": ".py",
   "mimetype": "text/x-python",
   "name": "python",
   "nbconvert_exporter": "python",
   "pygments_lexer": "ipython3",
   "version": "3.10.8"
  }
 },
 "nbformat": 4,
 "nbformat_minor": 5
}
